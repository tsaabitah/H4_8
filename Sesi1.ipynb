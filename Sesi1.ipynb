{
 "cells": [
  {
   "attachments": {},
   "cell_type": "markdown",
   "metadata": {},
   "source": [
    "Integers"
   ]
  },
  {
   "cell_type": "code",
   "execution_count": 1,
   "metadata": {},
   "outputs": [
    {
     "name": "stdout",
     "output_type": "stream",
     "text": [
      "123123123123123123123123124\n"
     ]
    }
   ],
   "source": [
    "print(123123123123123123123123123 + 1)"
   ]
  },
  {
   "cell_type": "code",
   "execution_count": 5,
   "metadata": {},
   "outputs": [
    {
     "name": "stdout",
     "output_type": "stream",
     "text": [
      "10\n",
      "<class 'int'>\n"
     ]
    }
   ],
   "source": [
    "print(10)\n",
    "print(type(10))"
   ]
  },
  {
   "cell_type": "code",
   "execution_count": 6,
   "metadata": {},
   "outputs": [
    {
     "name": "stdout",
     "output_type": "stream",
     "text": [
      "4.2\n",
      "<class 'float'>\n",
      "4.0\n",
      "0.2\n",
      "4000000.0\n",
      "0.00042\n"
     ]
    }
   ],
   "source": [
    "print(4.2)\n",
    "print(type(4.2))\n",
    "\n",
    "print(4.)\n",
    "\n",
    "print(.2)\n",
    "\n",
    "print(.4e7)\n",
    "\n",
    "print(4.2e-4)"
   ]
  },
  {
   "attachments": {},
   "cell_type": "markdown",
   "metadata": {},
   "source": [
    "Strings"
   ]
  },
  {
   "cell_type": "code",
   "execution_count": 7,
   "metadata": {},
   "outputs": [
    {
     "name": "stdout",
     "output_type": "stream",
     "text": [
      "Hactiv8\n",
      "<class 'str'>\n"
     ]
    }
   ],
   "source": [
    "print(\"Hactiv8\")\n",
    "print(type(\"Hacktiv8\"))"
   ]
  },
  {
   "cell_type": "code",
   "execution_count": 8,
   "metadata": {},
   "outputs": [
    {
     "name": "stdout",
     "output_type": "stream",
     "text": [
      "\n"
     ]
    }
   ],
   "source": [
    "print('')"
   ]
  },
  {
   "cell_type": "code",
   "execution_count": 11,
   "metadata": {},
   "outputs": [
    {
     "name": "stdout",
     "output_type": "stream",
     "text": [
      "This string contains a single quote (') character.\n",
      "This string contains a double quote (\") character.\n"
     ]
    }
   ],
   "source": [
    "print(\"This string contains a single quote (') character.\")\n",
    "print('This string contains a double quote (\") character.')"
   ]
  },
  {
   "attachments": {},
   "cell_type": "markdown",
   "metadata": {},
   "source": [
    "Boolean Type, Boolean Context, and \"Truthiness\""
   ]
  },
  {
   "cell_type": "code",
   "execution_count": 12,
   "metadata": {},
   "outputs": [
    {
     "name": "stdout",
     "output_type": "stream",
     "text": [
      "<class 'bool'>\n",
      "<class 'bool'>\n"
     ]
    }
   ],
   "source": [
    "print(type(True))\n",
    "print(type(False))"
   ]
  },
  {
   "attachments": {},
   "cell_type": "markdown",
   "metadata": {},
   "source": [
    "Variable Assignment"
   ]
  },
  {
   "cell_type": "code",
   "execution_count": 13,
   "metadata": {},
   "outputs": [],
   "source": [
    "n = 300"
   ]
  },
  {
   "cell_type": "code",
   "execution_count": 14,
   "metadata": {},
   "outputs": [
    {
     "name": "stdout",
     "output_type": "stream",
     "text": [
      "300\n"
     ]
    }
   ],
   "source": [
    "print(n)"
   ]
  },
  {
   "cell_type": "code",
   "execution_count": 15,
   "metadata": {},
   "outputs": [
    {
     "data": {
      "text/plain": [
       "300"
      ]
     },
     "execution_count": 15,
     "metadata": {},
     "output_type": "execute_result"
    }
   ],
   "source": [
    "n"
   ]
  },
  {
   "cell_type": "code",
   "execution_count": 16,
   "metadata": {},
   "outputs": [
    {
     "name": "stdout",
     "output_type": "stream",
     "text": [
      "1000\n"
     ]
    },
    {
     "data": {
      "text/plain": [
       "1000"
      ]
     },
     "execution_count": 16,
     "metadata": {},
     "output_type": "execute_result"
    }
   ],
   "source": [
    "n = 1000\n",
    "print(n)\n",
    "\n",
    "n"
   ]
  },
  {
   "cell_type": "code",
   "execution_count": 17,
   "metadata": {},
   "outputs": [
    {
     "name": "stdout",
     "output_type": "stream",
     "text": [
      "300 300 300\n"
     ]
    }
   ],
   "source": [
    "a = b = c = 300\n",
    "print(a, b, c)"
   ]
  },
  {
   "attachments": {},
   "cell_type": "markdown",
   "metadata": {},
   "source": [
    "Variable Types in Python"
   ]
  },
  {
   "cell_type": "code",
   "execution_count": 18,
   "metadata": {},
   "outputs": [
    {
     "name": "stdout",
     "output_type": "stream",
     "text": [
      "23.5\n",
      "Now 1'm a string\n"
     ]
    }
   ],
   "source": [
    "var = 23.5\n",
    "print(var)\n",
    "\n",
    "var = \"Now 1'm a string\"\n",
    "print(var)"
   ]
  },
  {
   "attachments": {},
   "cell_type": "markdown",
   "metadata": {},
   "source": [
    "Variable Names"
   ]
  },
  {
   "cell_type": "code",
   "execution_count": 19,
   "metadata": {},
   "outputs": [
    {
     "name": "stdout",
     "output_type": "stream",
     "text": [
      "Hactiv8 54 True\n"
     ]
    }
   ],
   "source": [
    "name = \"Hactiv8\"\n",
    "Age = 54\n",
    "has_laptops = True\n",
    "print(name, Age, has_laptops)"
   ]
  },
  {
   "cell_type": "code",
   "execution_count": 20,
   "metadata": {},
   "outputs": [
    {
     "name": "stdout",
     "output_type": "stream",
     "text": [
      "1 2 3 4 5 6 7 8\n"
     ]
    }
   ],
   "source": [
    "age = 1\n",
    "Age = 2\n",
    "aGe = 3\n",
    "AGE = 4\n",
    "a_g_e = 5\n",
    "_age = 6\n",
    "age_ = 7\n",
    "_AGE_ = 8\n",
    "\n",
    "print(age, Age, aGe, AGE, a_g_e, _age, age_, _AGE_)"
   ]
  },
  {
   "attachments": {},
   "cell_type": "markdown",
   "metadata": {},
   "source": [
    "Operators and Expressions in Python"
   ]
  },
  {
   "cell_type": "code",
   "execution_count": 21,
   "metadata": {},
   "outputs": [
    {
     "data": {
      "text/plain": [
       "30"
      ]
     },
     "execution_count": 21,
     "metadata": {},
     "output_type": "execute_result"
    }
   ],
   "source": [
    "a = 10\n",
    "b = 20\n",
    "a + b"
   ]
  },
  {
   "cell_type": "code",
   "execution_count": 22,
   "metadata": {},
   "outputs": [
    {
     "data": {
      "text/plain": [
       "25"
      ]
     },
     "execution_count": 22,
     "metadata": {},
     "output_type": "execute_result"
    }
   ],
   "source": [
    "a + b - 5"
   ]
  },
  {
   "attachments": {},
   "cell_type": "markdown",
   "metadata": {},
   "source": [
    "Arithmetic Operators"
   ]
  },
  {
   "cell_type": "code",
   "execution_count": 23,
   "metadata": {},
   "outputs": [
    {
     "name": "stdout",
     "output_type": "stream",
     "text": [
      "7\n",
      "1\n",
      "12\n",
      "1.3333333333333333\n",
      "1\n",
      "64\n"
     ]
    }
   ],
   "source": [
    "a = 4\n",
    "b = 3\n",
    "\n",
    "print(a + b)\n",
    "print(a - b)\n",
    "print(a * b)\n",
    "print(a / b)\n",
    "print(a % b)\n",
    "print(a ** b)"
   ]
  },
  {
   "cell_type": "code",
   "execution_count": 24,
   "metadata": {},
   "outputs": [
    {
     "data": {
      "text/plain": [
       "2.0"
      ]
     },
     "execution_count": 24,
     "metadata": {},
     "output_type": "execute_result"
    }
   ],
   "source": [
    "10 / 5"
   ]
  },
  {
   "attachments": {},
   "cell_type": "markdown",
   "metadata": {},
   "source": [
    "Comparison Operators"
   ]
  },
  {
   "cell_type": "code",
   "execution_count": 1,
   "metadata": {},
   "outputs": [
    {
     "name": "stdout",
     "output_type": "stream",
     "text": [
      "False\n",
      "True\n",
      "True\n",
      "False\n",
      "True\n",
      "True\n",
      "True\n",
      "False\n"
     ]
    }
   ],
   "source": [
    "a = 10\n",
    "b = 20\n",
    "print( a == b)\n",
    "\n",
    "print( a != b)\n",
    "\n",
    "print( a <= b)\n",
    "\n",
    "print( a >= b)\n",
    "\n",
    "a = 30\n",
    "b = 30\n",
    "print(a == b)\n",
    "\n",
    "print(a <= b)\n",
    "\n",
    "print(a >= b)\n",
    "\n",
    "print(a != b)"
   ]
  },
  {
   "attachments": {},
   "cell_type": "markdown",
   "metadata": {},
   "source": [
    "String Manipulation"
   ]
  },
  {
   "cell_type": "code",
   "execution_count": 28,
   "metadata": {},
   "outputs": [
    {
     "name": "stdout",
     "output_type": "stream",
     "text": [
      "foobar\n",
      "foobarbaz\n",
      "Hacktiv8 PTP\n"
     ]
    }
   ],
   "source": [
    "s = 'foo'\n",
    "t = 'bar'\n",
    "u = 'baz'\n",
    "\n",
    "print(s + t)\n",
    "\n",
    "print(s + t + u)\n",
    "\n",
    "\n",
    "print('Hacktiv8 ' + 'PTP')"
   ]
  },
  {
   "cell_type": "code",
   "execution_count": 29,
   "metadata": {},
   "outputs": [
    {
     "data": {
      "text/plain": [
       "'foo.foo.foo.foo.'"
      ]
     },
     "execution_count": 29,
     "metadata": {},
     "output_type": "execute_result"
    }
   ],
   "source": [
    "s = 'foo.'\n",
    "\n",
    "s * 4"
   ]
  },
  {
   "cell_type": "code",
   "execution_count": 30,
   "metadata": {},
   "outputs": [
    {
     "name": "stdout",
     "output_type": "stream",
     "text": [
      "True\n",
      "False\n"
     ]
    }
   ],
   "source": [
    "s = 'foo'\n",
    "\n",
    "print(s in 'That food for us')\n",
    "print(s in 'That good for us')"
   ]
  },
  {
   "cell_type": "code",
   "execution_count": 31,
   "metadata": {},
   "outputs": [
    {
     "name": "stdout",
     "output_type": "stream",
     "text": [
      "Hacktiv8\n",
      "hacktiv8\n",
      "hACKtiv8\n",
      "Hacktiv8\n",
      "HACKTIV8\n"
     ]
    }
   ],
   "source": [
    "s = 'HackTIV8'\n",
    "\n",
    "print(s.capitalize())\n",
    "print(s.lower())\n",
    "print(s.swapcase())\n",
    "print(s.title())\n",
    "print(s.upper())\n"
   ]
  },
  {
   "attachments": {},
   "cell_type": "markdown",
   "metadata": {},
   "source": [
    "Python List"
   ]
  },
  {
   "cell_type": "code",
   "execution_count": 32,
   "metadata": {},
   "outputs": [
    {
     "name": "stdout",
     "output_type": "stream",
     "text": [
      "['foo', 'bar', 'baz', 'qux']\n"
     ]
    }
   ],
   "source": [
    "a = ['foo', 'bar', 'baz', 'qux']\n",
    "print(a)"
   ]
  },
  {
   "attachments": {},
   "cell_type": "markdown",
   "metadata": {},
   "source": [
    "List Are Ordered"
   ]
  },
  {
   "cell_type": "code",
   "execution_count": 34,
   "metadata": {},
   "outputs": [
    {
     "data": {
      "text/plain": [
       "False"
      ]
     },
     "execution_count": 34,
     "metadata": {},
     "output_type": "execute_result"
    }
   ],
   "source": [
    "a = ['foo', 'bar', 'baz', 'qux']\n",
    "b = ['baz', 'qux', 'bar', 'foo']\n",
    "\n",
    "a == b"
   ]
  },
  {
   "attachments": {},
   "cell_type": "markdown",
   "metadata": {},
   "source": [
    "Lists Can Contain Arbitary Objects"
   ]
  },
  {
   "cell_type": "code",
   "execution_count": 35,
   "metadata": {},
   "outputs": [
    {
     "name": "stdout",
     "output_type": "stream",
     "text": [
      "[21.42, 'foobar', 3, 4, 'bark', False, 3.14159]\n"
     ]
    }
   ],
   "source": [
    "a = [21.42, 'foobar', 3, 4, 'bark', False, 3.14159]\n",
    "\n",
    "print(a)"
   ]
  },
  {
   "attachments": {},
   "cell_type": "markdown",
   "metadata": {},
   "source": [
    "List Elements Can Be Accessed by Index"
   ]
  },
  {
   "cell_type": "code",
   "execution_count": 36,
   "metadata": {},
   "outputs": [],
   "source": [
    "a = ['foo', 'bar', 'baz', 'qux', 'quux', 'corge']"
   ]
  },
  {
   "cell_type": "code",
   "execution_count": 37,
   "metadata": {},
   "outputs": [
    {
     "name": "stdout",
     "output_type": "stream",
     "text": [
      "foo\n",
      "corge\n"
     ]
    }
   ],
   "source": [
    "print(a[0])\n",
    "print(a[5])"
   ]
  },
  {
   "cell_type": "code",
   "execution_count": 39,
   "metadata": {},
   "outputs": [
    {
     "name": "stdout",
     "output_type": "stream",
     "text": [
      "corge\n",
      "foo\n"
     ]
    }
   ],
   "source": [
    "print(a[-1])\n",
    "print(a[-6])"
   ]
  },
  {
   "cell_type": "code",
   "execution_count": 40,
   "metadata": {},
   "outputs": [
    {
     "data": {
      "text/plain": [
       "['baz', 'qux', 'quux']"
      ]
     },
     "execution_count": 40,
     "metadata": {},
     "output_type": "execute_result"
    }
   ],
   "source": [
    "a[2:5]"
   ]
  },
  {
   "cell_type": "code",
   "execution_count": 42,
   "metadata": {},
   "outputs": [
    {
     "name": "stdout",
     "output_type": "stream",
     "text": [
      "['foo', 'bar', 'baz', 'qux', 'quux', 'corge']\n",
      "['foo', 'bar', 'baz', 'qux', 'quux', 'corge', 'grault', 'garply']\n",
      "['foo', 'bar', 'baz', 'qux', 'quux', 'corge', 'foo', 'bar', 'baz', 'qux', 'quux', 'corge']\n"
     ]
    }
   ],
   "source": [
    "print(a)\n",
    "\n",
    "print(a + ['grault', 'garply'])\n",
    "print(a * 2)"
   ]
  },
  {
   "cell_type": "code",
   "execution_count": 43,
   "metadata": {},
   "outputs": [
    {
     "name": "stdout",
     "output_type": "stream",
     "text": [
      "['foo', 'bar', 'baz', 'qux', 'quux', 'corge']\n",
      "6\n",
      "bar\n",
      "qux\n"
     ]
    }
   ],
   "source": [
    "print (a)\n",
    "\n",
    "print(len(a))\n",
    "print(min(a))\n",
    "print(max(a))"
   ]
  },
  {
   "attachments": {},
   "cell_type": "markdown",
   "metadata": {},
   "source": [
    "Modifying a Single List Value"
   ]
  },
  {
   "cell_type": "code",
   "execution_count": 44,
   "metadata": {},
   "outputs": [
    {
     "name": "stdout",
     "output_type": "stream",
     "text": [
      "['foo', 'bar', 'baz', 'qux', 'quux', 'corge']\n",
      "['foo', 'bar', 10, 'qux', 'quux', 20]\n"
     ]
    }
   ],
   "source": [
    "a = ['foo', 'bar', 'baz', 'qux', 'quux', 'corge']\n",
    "\n",
    "print(a)\n",
    "\n",
    "a[2] = 10\n",
    "a[-1] = 20\n",
    "\n",
    "print(a)"
   ]
  },
  {
   "cell_type": "code",
   "execution_count": 45,
   "metadata": {},
   "outputs": [
    {
     "name": "stdout",
     "output_type": "stream",
     "text": [
      "['foo', 'bar', 10, 'qux', 'quux', 20]\n"
     ]
    }
   ],
   "source": [
    "print(a)"
   ]
  },
  {
   "attachments": {},
   "cell_type": "markdown",
   "metadata": {},
   "source": [
    "Modifying a Multiple List Value"
   ]
  },
  {
   "cell_type": "code",
   "execution_count": 46,
   "metadata": {},
   "outputs": [
    {
     "name": "stdout",
     "output_type": "stream",
     "text": [
      "['bar', 'baz', 'qux']\n",
      "['foo', 1.1, 2.2, 3.3, 4.4, 5.5, 'quux', 'corge']\n"
     ]
    }
   ],
   "source": [
    "a = ['foo', 'bar', 'baz', 'qux', 'quux', 'corge']\n",
    "\n",
    "print(a[1:4])\n",
    "\n",
    "a[1:4] = [1.1, 2.2, 3.3, 4.4, 5.5]\n",
    "\n",
    "print(a)"
   ]
  },
  {
   "attachments": {},
   "cell_type": "markdown",
   "metadata": {},
   "source": [
    "Python Tuples"
   ]
  },
  {
   "cell_type": "code",
   "execution_count": 47,
   "metadata": {},
   "outputs": [
    {
     "name": "stdout",
     "output_type": "stream",
     "text": [
      "('foo', 'bar', 'baz', 'quz', 'quux', 'corge')\n"
     ]
    }
   ],
   "source": [
    "t = ('foo', 'bar', 'baz', 'quz', 'quux', 'corge')\n",
    "\n",
    "print(t)"
   ]
  },
  {
   "cell_type": "code",
   "execution_count": 48,
   "metadata": {},
   "outputs": [
    {
     "name": "stdout",
     "output_type": "stream",
     "text": [
      "foo\n",
      "corge\n"
     ]
    }
   ],
   "source": [
    "print(t[0])\n",
    "\n",
    "print(t[-1])"
   ]
  },
  {
   "cell_type": "code",
   "execution_count": 50,
   "metadata": {},
   "outputs": [
    {
     "data": {
      "text/plain": [
       "'foo'"
      ]
     },
     "execution_count": 50,
     "metadata": {},
     "output_type": "execute_result"
    }
   ],
   "source": [
    "(s1, s2, s3, s4) = ('foo', 'bar', 'baz', 'qux')\n",
    "\n",
    "s1"
   ]
  },
  {
   "attachments": {},
   "cell_type": "markdown",
   "metadata": {},
   "source": [
    "Python Dictionary"
   ]
  },
  {
   "cell_type": "code",
   "execution_count": 51,
   "metadata": {},
   "outputs": [],
   "source": [
    "MLB_team = {\n",
    "    'Colorado' : 'Rockies',\n",
    "    'Boston' : 'Red Sox',\n",
    "    'Minnesota' : 'Twins',\n",
    "    'Milwaukee' : 'Brewers',\n",
    "    'Seattle' : 'Mariners'\n",
    "}"
   ]
  },
  {
   "attachments": {},
   "cell_type": "markdown",
   "metadata": {},
   "source": [
    "Accessing Dictionary Values"
   ]
  },
  {
   "cell_type": "code",
   "execution_count": 52,
   "metadata": {},
   "outputs": [
    {
     "name": "stdout",
     "output_type": "stream",
     "text": [
      "Twins\n",
      "Rockies\n"
     ]
    }
   ],
   "source": [
    "print(MLB_team['Minnesota'])\n",
    "print(MLB_team['Colorado'])"
   ]
  },
  {
   "cell_type": "code",
   "execution_count": 53,
   "metadata": {},
   "outputs": [
    {
     "data": {
      "text/plain": [
       "{'Colorado': 'Rockies',\n",
       " 'Boston': 'Red Sox',\n",
       " 'Minnesota': 'Twins',\n",
       " 'Milwaukee': 'Brewers',\n",
       " 'Seattle': 'Mariners',\n",
       " 'Kansas City': 'Royals'}"
      ]
     },
     "execution_count": 53,
     "metadata": {},
     "output_type": "execute_result"
    }
   ],
   "source": [
    "MLB_team['Kansas City'] = 'Royals'\n",
    "MLB_team"
   ]
  },
  {
   "cell_type": "code",
   "execution_count": 54,
   "metadata": {},
   "outputs": [
    {
     "data": {
      "text/plain": [
       "{'Colorado': 'Rockies',\n",
       " 'Boston': 'Red Sox',\n",
       " 'Minnesota': 'Twins',\n",
       " 'Milwaukee': 'Brewers',\n",
       " 'Seattle': 'Mariners',\n",
       " 'Kansas City': 'Royals',\n",
       " 'SEattle': 'Seahawks'}"
      ]
     },
     "execution_count": 54,
     "metadata": {},
     "output_type": "execute_result"
    }
   ],
   "source": [
    "MLB_team['SEattle'] = 'Seahawks'\n",
    "MLB_team"
   ]
  },
  {
   "cell_type": "code",
   "execution_count": 55,
   "metadata": {},
   "outputs": [
    {
     "data": {
      "text/plain": [
       "{'Colorado': 'Rockies',\n",
       " 'Boston': 'Red Sox',\n",
       " 'Minnesota': 'Twins',\n",
       " 'Milwaukee': 'Brewers',\n",
       " 'Kansas City': 'Royals',\n",
       " 'SEattle': 'Seahawks'}"
      ]
     },
     "execution_count": 55,
     "metadata": {},
     "output_type": "execute_result"
    }
   ],
   "source": [
    "del MLB_team['Seattle']\n",
    "MLB_team"
   ]
  },
  {
   "attachments": {},
   "cell_type": "markdown",
   "metadata": {},
   "source": [
    "Building a Dictionary Incrementally"
   ]
  },
  {
   "cell_type": "code",
   "execution_count": 64,
   "metadata": {},
   "outputs": [],
   "source": [
    "person = {}\n",
    "type(person)\n",
    "\n",
    "person['fname'] = 'Hack'\n",
    "person['lname'] = 'PTP'\n",
    "person['age'] = 51\n",
    "person['spouse'] = 'Edna'\n",
    "person['children'] = ['Ralph', 'Betty', 'Joey']\n",
    "person['pets'] = {'dog': 'Fido', 'cat': 'Sox'}"
   ]
  },
  {
   "cell_type": "code",
   "execution_count": 65,
   "metadata": {},
   "outputs": [
    {
     "data": {
      "text/plain": [
       "{'fname': 'Hack',\n",
       " 'lname': 'PTP',\n",
       " 'age': 51,\n",
       " 'spouse': 'Edna',\n",
       " 'children': ['Ralph', 'Betty', 'Joey'],\n",
       " 'pets': {'dog': 'Fido', 'cat': 'Sox'}}"
      ]
     },
     "execution_count": 65,
     "metadata": {},
     "output_type": "execute_result"
    }
   ],
   "source": [
    "person"
   ]
  },
  {
   "cell_type": "code",
   "execution_count": 66,
   "metadata": {},
   "outputs": [
    {
     "name": "stdout",
     "output_type": "stream",
     "text": [
      "Hack\n",
      "PTP\n"
     ]
    }
   ],
   "source": [
    "print(person['fname'])\n",
    "print(person['lname'])"
   ]
  },
  {
   "cell_type": "code",
   "execution_count": 67,
   "metadata": {},
   "outputs": [
    {
     "name": "stdout",
     "output_type": "stream",
     "text": [
      "['Ralph', 'Betty', 'Joey']\n",
      "Betty\n"
     ]
    }
   ],
   "source": [
    "print(person['children'])\n",
    "print(person['children'][1])"
   ]
  },
  {
   "cell_type": "code",
   "execution_count": 68,
   "metadata": {},
   "outputs": [
    {
     "name": "stdout",
     "output_type": "stream",
     "text": [
      "{'dog': 'Fido', 'cat': 'Sox'}\n",
      "Sox\n"
     ]
    }
   ],
   "source": [
    "print(person['pets'])\n",
    "print(person['pets']['cat'])"
   ]
  },
  {
   "cell_type": "code",
   "execution_count": 69,
   "metadata": {},
   "outputs": [
    {
     "name": "stdout",
     "output_type": "stream",
     "text": [
      "dict_items([('a', 10), ('b', 20), ('c', 30)])\n",
      "dict_keys(['a', 'b', 'c'])\n",
      "dict_values([10, 20, 30])\n"
     ]
    }
   ],
   "source": [
    "d = {'a': 10, 'b': 20, 'c': 30}\n",
    "\n",
    "print(d.items())\n",
    "print(d.keys())\n",
    "print(d.values())"
   ]
  },
  {
   "attachments": {},
   "cell_type": "markdown",
   "metadata": {},
   "source": [
    "Line Continuation"
   ]
  },
  {
   "cell_type": "code",
   "execution_count": 76,
   "metadata": {},
   "outputs": [
    {
     "data": {
      "text/plain": [
       "True"
      ]
     },
     "execution_count": 76,
     "metadata": {},
     "output_type": "execute_result"
    }
   ],
   "source": [
    "person1_age = 42\n",
    "person2_age = 16\n",
    "person3_age = 71\n",
    "\n",
    "someone_is_of_working_age = (person1_age >= 18 and person1_age <= 65) or (person2_age >= 18 and person2_age <= 65) or (person3_age >= 18 and person3_age <= 65)\n",
    "someone_is_of_working_age"
   ]
  },
  {
   "cell_type": "code",
   "execution_count": 78,
   "metadata": {},
   "outputs": [
    {
     "data": {
      "text/plain": [
       "True"
      ]
     },
     "execution_count": 78,
     "metadata": {},
     "output_type": "execute_result"
    }
   ],
   "source": [
    "someone_is_of_working_age = (\n",
    "(person1_age >= 18 and person1_age <= 65)\n",
    "or (person2_age >= 18 and person2_age <= 65)\n",
    "or (person3_age >= 18 and person3_age <= 65)\n",
    ")\n",
    "\n",
    "someone_is_of_working_age"
   ]
  }
 ],
 "metadata": {
  "kernelspec": {
   "display_name": "Python 3",
   "language": "python",
   "name": "python3"
  },
  "language_info": {
   "codemirror_mode": {
    "name": "ipython",
    "version": 3
   },
   "file_extension": ".py",
   "mimetype": "text/x-python",
   "name": "python",
   "nbconvert_exporter": "python",
   "pygments_lexer": "ipython3",
   "version": "3.11.2"
  },
  "orig_nbformat": 4,
  "vscode": {
   "interpreter": {
    "hash": "f3610ac68b12db2c74841c70feb8f07f0e5464f333fb9f3bdfa8b83f3103ce8c"
   }
  }
 },
 "nbformat": 4,
 "nbformat_minor": 2
}
